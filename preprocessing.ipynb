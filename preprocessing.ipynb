{
  "nbformat": 4,
  "nbformat_minor": 0,
  "metadata": {
    "colab": {
      "provenance": [],
      "include_colab_link": true
    },
    "kernelspec": {
      "name": "python3",
      "display_name": "Python 3"
    },
    "language_info": {
      "name": "python"
    }
  },
  "cells": [
    {
      "cell_type": "markdown",
      "metadata": {
        "id": "view-in-github",
        "colab_type": "text"
      },
      "source": [
        "<a href=\"https://colab.research.google.com/github/kaika02/dataset-2/blob/main/preprocessing.ipynb\" target=\"_parent\"><img src=\"https://colab.research.google.com/assets/colab-badge.svg\" alt=\"Open In Colab\"/></a>"
      ]
    },
    {
      "cell_type": "markdown",
      "source": [
        "**Import Library yang digunakan**"
      ],
      "metadata": {
        "id": "CN2dl289kogI"
      }
    },
    {
      "cell_type": "code",
      "execution_count": 112,
      "metadata": {
        "id": "tlNJfjlz0kiF"
      },
      "outputs": [],
      "source": [
        "import numpy as np\n",
        "import matplotlib.pyplot as plt\n",
        "import pandas as pd"
      ]
    },
    {
      "cell_type": "markdown",
      "source": [
        "**Import Dataset**\n",
        "\n",
        "\n"
      ],
      "metadata": {
        "id": "S-rp5ZlBkyc7"
      }
    },
    {
      "cell_type": "code",
      "source": [
        "dataset = pd.read_csv('sekolah.csv')\n",
        "x = dataset.iloc[:, :-1].values\n",
        "y = dataset.iloc[:, -1].values"
      ],
      "metadata": {
        "id": "i30H_0eZ01fy"
      },
      "execution_count": 114,
      "outputs": []
    },
    {
      "cell_type": "markdown",
      "source": [
        "\n",
        "Variabel x berisi kolom tahun, tingkat_sekolah, jenis_sekolah, jumlah_sekolah, jumlah_guru, dan jumlah_murid\n",
        "\n",
        "\n",
        "Variabel y berisi kolom jumlah_kelas\n"
      ],
      "metadata": {
        "id": "WPJkG6fymiQn"
      }
    },
    {
      "cell_type": "code",
      "source": [
        "print(x)"
      ],
      "metadata": {
        "colab": {
          "base_uri": "https://localhost:8080/"
        },
        "id": "EB0_yGpJ1l6k",
        "outputId": "56509f2e-286c-4bd2-a53f-08fc81bc28ff"
      },
      "execution_count": 115,
      "outputs": [
        {
          "output_type": "stream",
          "name": "stdout",
          "text": [
            "[['2011-2012' 'TK' 'Negeri' 9 58 521]\n",
            " ['2011-2012' 'TK' 'Swasta' 1781 8646 92775]\n",
            " ['2012-2013' 'TK' 'Negeri' 9 58 673]\n",
            " ['2012-2013' 'TK' 'Swasta' 1432 10064 81050]\n",
            " ['2013-2014' 'TK' 'Negeri' 9 103 836]\n",
            " ['2013-2014' 'TK' 'Swasta' 1421 10346 82874]\n",
            " ['2014-2015' 'TK' 'Negeri' 9 70 540]\n",
            " ['2014-2015' 'TK' 'Swasta' 1990 10471 86265]\n",
            " ['2015-2016' 'TK' 'Negeri' 22 122 1184]\n",
            " ['2015-2016' 'TK' 'Swasta' 2056 10391 88214]\n",
            " ['2011-2012' 'SD' 'Negeri' 2223 27145 653097]\n",
            " ['2011-2012' 'SD' 'Swasta' 775 10340 175184]\n",
            " ['2012-2013' 'SD' 'Negeri' 2222 29229 649508]\n",
            " ['2012-2013' 'SD' 'Swasta' 804 13824 195309]\n",
            " ['2013-2014' 'SD' 'Negeri' 2208 28269 640398]\n",
            " ['2013-2014' 'SD' 'Swasta' 839 13894 208064]\n",
            " ['2014-2015' 'SD' 'Negeri' 2111 27104 619839]\n",
            " ['2014-2015' 'SD' 'Swasta' 839 13820 201529]\n",
            " ['2015-2016' 'SD' 'Negeri' 1667 25663 593605]\n",
            " ['2015-2016' 'SD' 'Swasta' 911 14267 216676]\n",
            " ['2011-2012' 'SMP' 'Negeri' 288 13012 221756]\n",
            " ['2011-2012' 'SMP' 'Swasta' 650 11235 117699]\n",
            " ['2012-2013' 'SMP' 'Negeri' 289 11685 197700]\n",
            " ['2012-2013' 'SMP' 'Swasta' 716 12133 143294]\n",
            " ['2013-2014' 'SMP' 'Negeri' 289 11363 206032]\n",
            " ['2013-2014' 'SMP' 'Swasta' 698 11369 141666]\n",
            " ['2014-2015' 'SMP' 'Negeri' 289 11043 214795]\n",
            " ['2014-2015' 'SMP' 'Swasta' 751 12058 154049]\n",
            " ['2015-2016' 'SMP' 'Negeri' 289 10507 213814]\n",
            " ['2015-2016' 'SMP' 'Swasta' 800 12043 138681]\n",
            " ['2011-2012' 'SMA' 'Negeri' 117 6989 92734]\n",
            " ['2011-2012' 'SMA' 'Swasta' 382 9473 90532]\n",
            " ['2012-2013' 'SMA' 'Negeri' 117 6195 87550]\n",
            " ['2012-2013' 'SMA' 'Swasta' 350 7662 65486]\n",
            " ['2013-2014' 'SMA' 'Negeri' 117 6044 81491]\n",
            " ['2013-2014' 'SMA' 'Swasta' 358 7470 61475]\n",
            " ['2014-2015' 'SMA' 'Negeri' 117 5760 82948]\n",
            " ['2014-2015' 'SMA' 'Swasta' 357 7387 53631]\n",
            " ['2015-2016' 'SMA' 'Negeri' 117 5343 83207]\n",
            " ['2015-2016' 'SMA' 'Swasta' 375 7396 62610]\n",
            " ['2011-2012' 'SMK' 'Negeri' 63 3254 42348]\n",
            " ['2011-2012' 'SMK' 'Swasta' 517 12789 161217]\n",
            " ['2012-2013' 'SMK' 'Negeri' 63 3024 41337]\n",
            " ['2012-2013' 'SMK' 'Swasta' 522 12556 156237]\n",
            " ['2013-2014' 'SMK' 'Negeri' 63 3032 38535]\n",
            " ['2013-2014' 'SMK' 'Swasta' 530 12360 148276]\n",
            " ['2014-2015' 'SMK' 'Negeri' 63 3080 40597]\n",
            " ['2014-2015' 'SMK' 'Swasta' 536 12334 109932]\n",
            " ['2015-2016' 'SMK' 'Negeri' 63 3039 41610]\n",
            " ['2015-2016' 'SMK' 'Swasta' 546 12011 134016]]\n"
          ]
        }
      ]
    },
    {
      "cell_type": "code",
      "source": [
        "print(y)"
      ],
      "metadata": {
        "colab": {
          "base_uri": "https://localhost:8080/"
        },
        "id": "yRkbYItw1o34",
        "outputId": "36de32bf-4be3-4d5a-c54a-4d0148cead30"
      },
      "execution_count": 116,
      "outputs": [
        {
          "output_type": "stream",
          "name": "stdout",
          "text": [
            "[   35  5179    35  4524    35  4604    35  5751    79  5949 18142  7177\n",
            " 18142  8001 18142  8524 17218  8524 16489  8877  4673  4997  4673  6083\n",
            "  4673  6015  4673  6419  4673  6500  2576  2934  2398  2122  2398  2225\n",
            "  2398  1915  2398  2029  1176  4478  1176  4481  1176  4464  1176  4500\n",
            "  1176  4560]\n"
          ]
        }
      ]
    },
    {
      "cell_type": "markdown",
      "source": [
        "**Encoding data kategori (Atribut)**\n",
        "\n",
        "Matrix X yang terbentuk sebelumnya pada kolom\n",
        "tingkat_sekolah dan jenis_sekolah bertipe string, jadi perlu diubah ke numerik (int\n",
        "atau float)."
      ],
      "metadata": {
        "id": "vq4MtHlplLCy"
      }
    },
    {
      "cell_type": "code",
      "source": [
        "p = dataset.iloc[:,1:2]\n",
        "\n",
        "from sklearn.compose import ColumnTransformer\n",
        "from sklearn.preprocessing import OneHotEncoder\n",
        "ct = ColumnTransformer(transformers=[('encoder', OneHotEncoder(), [0])], remainder='passthrough')\n",
        "p = np.array(ct.fit_transform(p))"
      ],
      "metadata": {
        "id": "4c3rbYfn1tTS"
      },
      "execution_count": 117,
      "outputs": []
    },
    {
      "cell_type": "code",
      "source": [
        "print(p)"
      ],
      "metadata": {
        "colab": {
          "base_uri": "https://localhost:8080/"
        },
        "id": "_adVAMSYMXvj",
        "outputId": "721a5618-8cbf-4e13-ac08-b89518b48735"
      },
      "execution_count": 118,
      "outputs": [
        {
          "output_type": "stream",
          "name": "stdout",
          "text": [
            "  (0, 4)\t1.0\n",
            "  (1, 4)\t1.0\n",
            "  (2, 4)\t1.0\n",
            "  (3, 4)\t1.0\n",
            "  (4, 4)\t1.0\n",
            "  (5, 4)\t1.0\n",
            "  (6, 4)\t1.0\n",
            "  (7, 4)\t1.0\n",
            "  (8, 4)\t1.0\n",
            "  (9, 4)\t1.0\n",
            "  (10, 0)\t1.0\n",
            "  (11, 0)\t1.0\n",
            "  (12, 0)\t1.0\n",
            "  (13, 0)\t1.0\n",
            "  (14, 0)\t1.0\n",
            "  (15, 0)\t1.0\n",
            "  (16, 0)\t1.0\n",
            "  (17, 0)\t1.0\n",
            "  (18, 0)\t1.0\n",
            "  (19, 0)\t1.0\n",
            "  (20, 3)\t1.0\n",
            "  (21, 3)\t1.0\n",
            "  (22, 3)\t1.0\n",
            "  (23, 3)\t1.0\n",
            "  (24, 3)\t1.0\n",
            "  (25, 3)\t1.0\n",
            "  (26, 3)\t1.0\n",
            "  (27, 3)\t1.0\n",
            "  (28, 3)\t1.0\n",
            "  (29, 3)\t1.0\n",
            "  (30, 1)\t1.0\n",
            "  (31, 1)\t1.0\n",
            "  (32, 1)\t1.0\n",
            "  (33, 1)\t1.0\n",
            "  (34, 1)\t1.0\n",
            "  (35, 1)\t1.0\n",
            "  (36, 1)\t1.0\n",
            "  (37, 1)\t1.0\n",
            "  (38, 1)\t1.0\n",
            "  (39, 1)\t1.0\n",
            "  (40, 2)\t1.0\n",
            "  (41, 2)\t1.0\n",
            "  (42, 2)\t1.0\n",
            "  (43, 2)\t1.0\n",
            "  (44, 2)\t1.0\n",
            "  (45, 2)\t1.0\n",
            "  (46, 2)\t1.0\n",
            "  (47, 2)\t1.0\n",
            "  (48, 2)\t1.0\n",
            "  (49, 2)\t1.0\n"
          ]
        }
      ]
    },
    {
      "cell_type": "markdown",
      "source": [
        "**Encoding data kategori (Class / Label)**\n",
        "\n",
        "Matrix Y hanya akan diubah menjadi numerik dengan LabelEncoder"
      ],
      "metadata": {
        "id": "KOt1qDOaqE8l"
      }
    },
    {
      "cell_type": "code",
      "source": [
        "from sklearn.preprocessing import LabelEncoder\n",
        "le = LabelEncoder()\n",
        "y = le.fit_transform(y)"
      ],
      "metadata": {
        "id": "_qTkZNq7Ma8K"
      },
      "execution_count": 119,
      "outputs": []
    },
    {
      "cell_type": "code",
      "source": [
        "print(y)"
      ],
      "metadata": {
        "colab": {
          "base_uri": "https://localhost:8080/"
        },
        "id": "JKIpYKiCMcI7",
        "outputId": "71c20d24-2331-40f8-f33c-6c3f8ea75bfc"
      },
      "execution_count": 120,
      "outputs": [
        {
          "output_type": "stream",
          "name": "stdout",
          "text": [
            "[ 0 19  0 14  0 16  0 20  1 21 32 26 32 27 32 28 31 28 30 29 17 18 17 23\n",
            " 17 22 17 24 17 25  8  9  7  5  7  6  7  3  7  4  2 11  2 12  2 10  2 13\n",
            "  2 15]\n"
          ]
        }
      ]
    },
    {
      "cell_type": "markdown",
      "source": [
        "**Membagi dataset ke dalam Training Set dan Test Set**"
      ],
      "metadata": {
        "id": "76YNl9u6rJGP"
      }
    },
    {
      "cell_type": "code",
      "source": [
        "from sklearn.model_selection import train_test_split\n",
        "x_train, x_test, y_train, y_test = train_test_split(x, y, test_size=0.2, random_state=1)"
      ],
      "metadata": {
        "id": "GJyZdsFMMh06"
      },
      "execution_count": 121,
      "outputs": []
    },
    {
      "cell_type": "code",
      "source": [
        "print(x_train)"
      ],
      "metadata": {
        "colab": {
          "base_uri": "https://localhost:8080/"
        },
        "id": "5CgReqLNVosv",
        "outputId": "58bc9247-eec5-4f5d-9641-0011e08e9d6a"
      },
      "execution_count": 122,
      "outputs": [
        {
          "output_type": "stream",
          "name": "stdout",
          "text": [
            "[['2012-2013' 'SMA' 'Negeri' 117 6195 87550]\n",
            " ['2015-2016' 'SMA' 'Swasta' 375 7396 62610]\n",
            " ['2011-2012' 'SMP' 'Swasta' 650 11235 117699]\n",
            " ['2014-2015' 'SMA' 'Negeri' 117 5760 82948]\n",
            " ['2015-2016' 'SD' 'Swasta' 911 14267 216676]\n",
            " ['2012-2013' 'SMK' 'Negeri' 63 3024 41337]\n",
            " ['2015-2016' 'SMK' 'Swasta' 546 12011 134016]\n",
            " ['2014-2015' 'SMP' 'Negeri' 289 11043 214795]\n",
            " ['2012-2013' 'SMP' 'Negeri' 289 11685 197700]\n",
            " ['2012-2013' 'SD' 'Swasta' 804 13824 195309]\n",
            " ['2011-2012' 'SMK' 'Swasta' 517 12789 161217]\n",
            " ['2014-2015' 'SD' 'Swasta' 839 13820 201529]\n",
            " ['2013-2014' 'SMK' 'Swasta' 530 12360 148276]\n",
            " ['2013-2014' 'SMP' 'Negeri' 289 11363 206032]\n",
            " ['2012-2013' 'SMP' 'Swasta' 716 12133 143294]\n",
            " ['2013-2014' 'TK' 'Negeri' 9 103 836]\n",
            " ['2012-2013' 'SMA' 'Swasta' 350 7662 65486]\n",
            " ['2013-2014' 'SD' 'Negeri' 2208 28269 640398]\n",
            " ['2011-2012' 'SMA' 'Negeri' 117 6989 92734]\n",
            " ['2011-2012' 'SD' 'Negeri' 2223 27145 653097]\n",
            " ['2015-2016' 'SMP' 'Negeri' 289 10507 213814]\n",
            " ['2013-2014' 'SMK' 'Negeri' 63 3032 38535]\n",
            " ['2013-2014' 'SMA' 'Negeri' 117 6044 81491]\n",
            " ['2015-2016' 'SD' 'Negeri' 1667 25663 593605]\n",
            " ['2011-2012' 'SMP' 'Negeri' 288 13012 221756]\n",
            " ['2013-2014' 'SMP' 'Swasta' 698 11369 141666]\n",
            " ['2014-2015' 'TK' 'Negeri' 9 70 540]\n",
            " ['2014-2015' 'TK' 'Swasta' 1990 10471 86265]\n",
            " ['2014-2015' 'SMK' 'Swasta' 536 12334 109932]\n",
            " ['2011-2012' 'TK' 'Swasta' 1781 8646 92775]\n",
            " ['2014-2015' 'SD' 'Negeri' 2111 27104 619839]\n",
            " ['2011-2012' 'TK' 'Negeri' 9 58 521]\n",
            " ['2013-2014' 'SD' 'Swasta' 839 13894 208064]\n",
            " ['2013-2014' 'TK' 'Swasta' 1421 10346 82874]\n",
            " ['2011-2012' 'SD' 'Swasta' 775 10340 175184]\n",
            " ['2015-2016' 'TK' 'Swasta' 2056 10391 88214]\n",
            " ['2015-2016' 'TK' 'Negeri' 22 122 1184]\n",
            " ['2012-2013' 'SD' 'Negeri' 2222 29229 649508]\n",
            " ['2012-2013' 'SMK' 'Swasta' 522 12556 156237]\n",
            " ['2014-2015' 'SMA' 'Swasta' 357 7387 53631]]\n"
          ]
        }
      ]
    },
    {
      "cell_type": "code",
      "source": [
        "print(x_test)"
      ],
      "metadata": {
        "colab": {
          "base_uri": "https://localhost:8080/"
        },
        "id": "j5vw4cPfVzjI",
        "outputId": "61a29ad7-d1dc-402f-91cb-d000be65488d"
      },
      "execution_count": 123,
      "outputs": [
        {
          "output_type": "stream",
          "name": "stdout",
          "text": [
            "[['2014-2015' 'SMP' 'Swasta' 751 12058 154049]\n",
            " ['2013-2014' 'SMA' 'Swasta' 358 7470 61475]\n",
            " ['2011-2012' 'SMK' 'Negeri' 63 3254 42348]\n",
            " ['2015-2016' 'SMA' 'Negeri' 117 5343 83207]\n",
            " ['2012-2013' 'TK' 'Negeri' 9 58 673]\n",
            " ['2012-2013' 'TK' 'Swasta' 1432 10064 81050]\n",
            " ['2015-2016' 'SMK' 'Negeri' 63 3039 41610]\n",
            " ['2015-2016' 'SMP' 'Swasta' 800 12043 138681]\n",
            " ['2014-2015' 'SMK' 'Negeri' 63 3080 40597]\n",
            " ['2011-2012' 'SMA' 'Swasta' 382 9473 90532]]\n"
          ]
        }
      ]
    },
    {
      "cell_type": "code",
      "source": [
        "print(y_train)"
      ],
      "metadata": {
        "colab": {
          "base_uri": "https://localhost:8080/"
        },
        "id": "2RzusOqvV5bN",
        "outputId": "59d120b4-1174-4ca5-c214-0581e8ba5baf"
      },
      "execution_count": 124,
      "outputs": [
        {
          "output_type": "stream",
          "name": "stdout",
          "text": [
            "[ 7  4 18  7 29  2 15 17 17 27 11 28 10 17 23  0  5 32  8 32 17  2  7 30\n",
            " 17 22  0 20 13 19 31  0 28 16 26 21  1 32 12  3]\n"
          ]
        }
      ]
    },
    {
      "cell_type": "code",
      "source": [
        "print(y_test)"
      ],
      "metadata": {
        "colab": {
          "base_uri": "https://localhost:8080/"
        },
        "id": "6KTiu_d2V-Rq",
        "outputId": "7826e11f-49a2-447a-cd29-146737a5e0e3"
      },
      "execution_count": 125,
      "outputs": [
        {
          "output_type": "stream",
          "name": "stdout",
          "text": [
            "[24  6  2  7  0 14  2 25  2  9]\n"
          ]
        }
      ]
    },
    {
      "cell_type": "markdown",
      "source": [
        "**Feature Scaling**"
      ],
      "metadata": {
        "id": "0-D5LdoFeluK"
      }
    },
    {
      "cell_type": "code",
      "source": [
        "from sklearn.preprocessing import StandardScaler\n",
        "sc = StandardScaler()\n",
        "x_train[:, 3:] = sc.fit_transform(x_train[:, 3:])\n",
        "x_test[:, 3:] = sc.transform(x_test[:, 3:])"
      ],
      "metadata": {
        "id": "_D-18sriWBrT"
      },
      "execution_count": 126,
      "outputs": []
    },
    {
      "cell_type": "code",
      "source": [
        "print(x_train)"
      ],
      "metadata": {
        "colab": {
          "base_uri": "https://localhost:8080/"
        },
        "id": "sMgrJ--yeZW9",
        "outputId": "1e30c019-960b-46e4-97ca-2c40859cf8fc"
      },
      "execution_count": 127,
      "outputs": [
        {
          "output_type": "stream",
          "name": "stdout",
          "text": [
            "[['2012-2013' 'SMA' 'Negeri' -0.8758044243155563 -0.694703495037199\n",
            "  -0.5189682385982674]\n",
            " ['2015-2016' 'SMA' 'Swasta' -0.5150083818846537 -0.5309856469269059\n",
            "  -0.6560343930369116]\n",
            " ['2011-2012' 'SMP' 'Swasta' -0.13043895681295517 -0.00766106832955753\n",
            "  -0.3532742734751445]\n",
            " ['2014-2015' 'SMA' 'Negeri' -0.8758044243155563 -0.7540017997232752\n",
            "  -0.5442600767188223]\n",
            " ['2015-2016' 'SD' 'Swasta' 0.23455238843691142 0.40565493122948393\n",
            "  0.19068710454705626]\n",
            " ['2012-2013' 'SMK' 'Negeri' -0.951319875056908 -1.1269676885074233\n",
            "  -0.7729473161874039]\n",
            " ['2015-2016' 'SMK' 'Swasta' -0.2758761212037066 0.09812165451273012\n",
            "  -0.2635987144544806]\n",
            " ['2014-2015' 'SMP' 'Negeri' -0.6352737293616212 -0.0338341131565153\n",
            "  0.18034943668422188]\n",
            " ['2012-2013' 'SMP' 'Negeri' -0.6352737293616212 0.05368200548362474\n",
            "  0.08639811711210389]\n",
            " ['2012-2013' 'SD' 'Swasta' 0.08491992122719601 0.3452660830089512\n",
            "  0.07325757279523147]\n",
            " ['2011-2012' 'SMK' 'Swasta' -0.3164307151203584 0.20417701323863194\n",
            "  -0.11410647440293445]\n",
            " ['2014-2015' 'SD' 'Swasta' 0.13386512078177581 0.3447208112417229\n",
            "  0.10744167386212669]\n",
            " ['2013-2014' 'SMK' 'Swasta' -0.2982510695715145 0.14569661620339816\n",
            "  -0.18522809046510344]\n",
            " ['2013-2014' 'SMP' 'Negeri' -0.6352737293616212 0.009787628221747651\n",
            "  0.1321894242004272]\n",
            " ['2012-2013' 'SMP' 'Swasta' -0.03814229479574752 0.11475244341319288\n",
            "  -0.21260834633572595]\n",
            " ['2013-2014' 'TK' 'Negeri' -1.0268353257982596 -1.52515239652588\n",
            "  -0.9955341774913143]\n",
            " ['2012-2013' 'SMA' 'Swasta' -0.5499692387093535 -0.4947250744062248\n",
            "  -0.6402283681706108]\n",
            " ['2013-2014' 'SD' 'Negeri' 2.04832164050234 2.314378752412102\n",
            "  2.5193938042684354]\n",
            " ['2011-2012' 'SMA' 'Negeri' -0.8758044243155563 -0.586467049242384\n",
            "  -0.4904778238183984]\n",
            " ['2011-2012' 'SD' 'Negeri' 2.0692981545971603 2.1611573858209536\n",
            "  2.5891854279739825]\n",
            " ['2015-2016' 'SMP' 'Negeri' -0.6352737293616212 -0.10690052996510574\n",
            "  0.17495802138733696]\n",
            " ['2013-2014' 'SMK' 'Negeri' -0.951319875056908 -1.125877144972967\n",
            "  -0.7883466491760599]\n",
            " ['2013-2014' 'SMA' 'Negeri' -0.8758044243155563 -0.7152875042500668\n",
            "  -0.552267510039476]\n",
            " ['2015-2016' 'SD' 'Negeri' 1.2917686988158352 1.9591341960628732\n",
            "  2.262227141692354]\n",
            " ['2011-2012' 'SMP' 'Negeri' -0.6366721636346092 0.23457591426160893\n",
            "  0.21860595236374883]\n",
            " ['2013-2014' 'SMP' 'Swasta' -0.06331411170953143 0.010605535872590081\n",
            "  -0.2215555676439101]\n",
            " ['2014-2015' 'TK' 'Negeri' -1.0268353257982596 -1.5296508886055133\n",
            "  -0.9971609450018933]\n",
            " ['2014-2015' 'TK' 'Swasta' 1.7434629689909573 -0.11180797587016032\n",
            "  -0.5260303880952063]\n",
            " ['2014-2015' 'SMK' 'Swasta' -0.28986046393358655 0.1421523497164143\n",
            "  -0.3959604331192884]\n",
            " ['2011-2012' 'TK' 'Swasta' 1.4511902059364665 -0.3605882196680662\n",
            "  -0.4902524945348385]\n",
            " ['2014-2015' 'SD' 'Negeri' 1.9126735160225048 2.1555683502068637\n",
            "  2.4064049081535965]\n",
            " ['2011-2012' 'TK' 'Negeri' -1.0268353257982596 -1.5312867039071982\n",
            "  -0.9972653658893966]\n",
            " ['2013-2014' 'SD' 'Swasta' 0.13386512078177581 0.35480833893544617\n",
            "  0.14335696332710424]\n",
            " ['2013-2014' 'TK' 'Swasta' 0.9477538676607886 -0.1288477185960443\n",
            "  -0.544666768596467]\n",
            " ['2011-2012' 'SD' 'Swasta' 0.04436532731054416 -0.1296656262468867\n",
            "  -0.037346130415583066]\n",
            " ['2015-2016' 'TK' 'Swasta' 1.835759631008165 -0.12271341121472606\n",
            "  -0.5153190033718335]\n",
            " ['2015-2016' 'TK' 'Negeri' -1.0086556802494158 -1.5225623556315455\n",
            "  -0.9936216264991472]\n",
            " ['2012-2013' 'SD' 'Negeri' 2.067899720324172 2.445243976546891\n",
            "  2.569460871908213]\n",
            " ['2012-2013' 'SMK' 'Swasta' -0.30943854375541846 0.1724149327975842\n",
            "  -0.14147573860118817]\n",
            " ['2014-2015' 'SMA' 'Swasta' -0.5401801987984376 -0.5322125084031695\n",
            "  -0.705381506136534]]\n"
          ]
        }
      ]
    },
    {
      "cell_type": "code",
      "source": [
        "print(x_test)"
      ],
      "metadata": {
        "colab": {
          "base_uri": "https://localhost:8080/"
        },
        "id": "ggogNaBdebX-",
        "outputId": "92241406-8466-4b28-8d4e-187d7c5f4b6c"
      },
      "execution_count": 128,
      "outputs": [
        {
          "output_type": "stream",
          "name": "stdout",
          "text": [
            "[['2014-2015' 'SMP' 'Swasta' 0.010802904758832289 0.10452859777766249\n",
            "  -0.15350062817262977]\n",
            " ['2013-2014' 'SMA' 'Swasta' -0.5387817645254496 -0.5208981192331825\n",
            "  -0.6622721671061923]\n",
            " ['2011-2012' 'SMK' 'Negeri' -0.951319875056908 -1.095614561891797\n",
            "  -0.7673910258049873]\n",
            " ['2015-2016' 'SMA' 'Negeri' -0.8758044243155563 -0.8108463814568241\n",
            "  -0.5428366551470657]\n",
            " ['2012-2013' 'TK' 'Negeri' -1.0268353257982596 -1.5312867039071982\n",
            "  -0.9964299987893697]\n",
            " ['2012-2013' 'TK' 'Swasta' 0.9631366446636566 -0.16728937818563852\n",
            "  -0.5546911737967912]\n",
            " ['2015-2016' 'SMK' 'Negeri' -0.951319875056908 -1.1249229193803174\n",
            "  -0.7714469529090658]\n",
            " ['2015-2016' 'SMP' 'Swasta' 0.07932618413524402 0.10248382865055643\n",
            "  -0.23796063865430916]\n",
            " ['2014-2015' 'SMK' 'Negeri' -0.951319875056908 -1.1193338837662274\n",
            "  -0.7770142349638511]\n",
            " ['2011-2012' 'SMA' 'Swasta' -0.5052193419737377 -0.2478532817936179\n",
            "  -0.5025796550964214]]\n"
          ]
        }
      ]
    }
  ]
}